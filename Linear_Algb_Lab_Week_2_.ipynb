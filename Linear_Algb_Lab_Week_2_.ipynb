{
  "nbformat": 4,
  "nbformat_minor": 0,
  "metadata": {
    "colab": {
      "name": "Linear Algb Lab Week 2 .ipynb",
      "provenance": [],
      "collapsed_sections": [],
      "toc_visible": true,
      "authorship_tag": "ABX9TyNlt1mO9FZGQpobPKmTIw1R",
      "include_colab_link": true
    },
    "kernelspec": {
      "name": "python3",
      "display_name": "Python 3"
    }
  },
  "cells": [
    {
      "cell_type": "markdown",
      "metadata": {
        "id": "view-in-github",
        "colab_type": "text"
      },
      "source": [
        "<a href=\"https://colab.research.google.com/github/brianjavines/Week2-Activity2/blob/main/Linear_Algb_Lab_Week_2_.ipynb\" target=\"_parent\"><img src=\"https://colab.research.google.com/assets/colab-badge.svg\" alt=\"Open In Colab\"/></a>"
      ]
    },
    {
      "cell_type": "markdown",
      "metadata": {
        "id": "EvVme4sVgPeM"
      },
      "source": [
        "# Declare Vectors"
      ]
    },
    {
      "cell_type": "code",
      "metadata": {
        "colab": {
          "base_uri": "https://localhost:8080/"
        },
        "id": "WCSGGYCe-_Wn",
        "outputId": "7aa88192-3643-4e54-ab3d-72a6fe582e3b"
      },
      "source": [
        "import numpy as np\r\n",
        "import matplotlib.pyplot as mplib\r\n",
        "\r\n",
        "x1 = [3, 7, 8] \r\n",
        "x2 = [7, 3, 9]\r\n",
        "x3 = [1, 8, 4]\r\n",
        "x4 = [2, 9, 3]\r\n",
        "x5 = [5, 6, 1]\r\n",
        "\r\n",
        "vec1 = np.array(x1)\r\n",
        "vec2 = np.array(x2)\r\n",
        "vec3 = np.array(x3)\r\n",
        "vec4 = np.array(x4)\r\n",
        "vec5 = np.array(x5)\r\n",
        "\r\n",
        "#Print\r\n",
        "print(vec1)\r\n",
        "print(vec2)\r\n",
        "print(vec3)\r\n",
        "print(vec4)\r\n",
        "print(vec5)"
      ],
      "execution_count": 4,
      "outputs": [
        {
          "output_type": "stream",
          "text": [
            "[3 7 8]\n",
            "[7 3 9]\n",
            "[1 8 4]\n",
            "[2 9 3]\n",
            "[5 6 1]\n"
          ],
          "name": "stdout"
        }
      ]
    },
    {
      "cell_type": "markdown",
      "metadata": {
        "id": "v4rCMnU0g-dm"
      },
      "source": [
        "# Performing Operations"
      ]
    },
    {
      "cell_type": "markdown",
      "metadata": {
        "id": "GDO4sJpSDGjC"
      },
      "source": [
        "## Addition and Subtraction"
      ]
    },
    {
      "cell_type": "code",
      "metadata": {
        "colab": {
          "base_uri": "https://localhost:8080/"
        },
        "id": "iPl8WE3hDJ8E",
        "outputId": "81b6087f-d482-4540-bd66-b3e6966d1a66"
      },
      "source": [
        "#Addition\r\n",
        "a1 = np.add(vec1, vec2)\r\n",
        "a2 = np.add(vec3, vec4)\r\n",
        "a3 = np.add(vec5, vec1)\r\n",
        "a4 = np.add(vec1, vec4)\r\n",
        "a5 = np.add(vec2, vec5)\r\n",
        "\r\n",
        "\r\n",
        "#Subtraction\r\n",
        "s1 = np.subtract(vec1, vec2)\r\n",
        "s2 = np.subtract(vec3, vec2)\r\n",
        "s3 = np.subtract(vec5, vec1)\r\n",
        "s4 = np.subtract(vec2, vec4)\r\n",
        "s5 = np.subtract(vec4, vec1)\r\n",
        "\r\n",
        "#Print\r\n",
        "print(f\"Sum of the arrays: {a2}\")\r\n",
        "print(f\"Difference of the arrays: {s3}\")"
      ],
      "execution_count": 5,
      "outputs": [
        {
          "output_type": "stream",
          "text": [
            "Sum of the arrays: [ 3 17  7]\n",
            "Difference of the arrays: [ 2 -1 -7]\n"
          ],
          "name": "stdout"
        }
      ]
    },
    {
      "cell_type": "markdown",
      "metadata": {
        "id": "j6OXvluhDN0M"
      },
      "source": [
        "## Multiplication and Division"
      ]
    },
    {
      "cell_type": "code",
      "metadata": {
        "colab": {
          "base_uri": "https://localhost:8080/"
        },
        "id": "4AAOR4QRDQPU",
        "outputId": "a73ac5c6-8468-40c2-f615-389da534bb49"
      },
      "source": [
        "#Multiplication\r\n",
        "m1 = np.multiply(vec1, vec2)\r\n",
        "m2 = np.multiply(vec3, vec1)\r\n",
        "m3 = np.multiply(vec2, vec5)\r\n",
        "m4 = np.multiply(vec3, vec4)\r\n",
        "m5 = np.multiply(vec5, vec1)\r\n",
        "\r\n",
        "\r\n",
        "#Division\r\n",
        "d1 = np.divide(vec4, vec2)\r\n",
        "d2 = np.divide(vec3, vec2)\r\n",
        "d3 = np.divide(vec2, vec1)\r\n",
        "d4 = np.divide(vec5, vec4)\r\n",
        "d5 = np.divide(vec1, vec3)\r\n",
        "\r\n",
        "\r\n",
        "#Print\r\n",
        "print(f\"Product  of the array: {m2}\")\r\n",
        "print(f\"Quotient of the array: {d1}\")"
      ],
      "execution_count": null,
      "outputs": [
        {
          "output_type": "stream",
          "text": [
            "Product  of the array: [ 3 56 32]\n",
            "Quotient of the array: [0.28571429 3.         0.33333333]\n"
          ],
          "name": "stdout"
        }
      ]
    },
    {
      "cell_type": "markdown",
      "metadata": {
        "id": "dhb38UK_DbvZ"
      },
      "source": [
        "# Squaring and Square Root"
      ]
    },
    {
      "cell_type": "code",
      "metadata": {
        "id": "4VRe3xGbDfGd"
      },
      "source": [
        "#Squaring\r\n",
        "sq1 = np.square(vec1, vec2)\r\n",
        "sq2 = np.square(sq1, vec3)\r\n",
        "sq3 = np.square(sq2, vec4)\r\n",
        "sq4 = np.square(sq3, vec5)\r\n",
        "\r\n",
        "\r\n",
        "#Square Root\r\n",
        "sr1 = np.sqrt(a2)"
      ],
      "execution_count": 7,
      "outputs": []
    },
    {
      "cell_type": "markdown",
      "metadata": {
        "id": "hN5pQDO2DfSI"
      },
      "source": [
        "## Summation"
      ]
    },
    {
      "cell_type": "code",
      "metadata": {
        "colab": {
          "base_uri": "https://localhost:8080/"
        },
        "id": "wDjijIhnDgNS",
        "outputId": "14e448e9-7f1c-4c10-9e93-853e78224cf2"
      },
      "source": [
        "#Summation\r\n",
        "sum1 = np.sum(a3)\r\n",
        "sum2 = np.sum(s1)\r\n",
        "sum3 = np.sum(sq4)\r\n",
        "\r\n",
        "print(sq3)"
      ],
      "execution_count": 10,
      "outputs": [
        {
          "output_type": "stream",
          "text": [
            "[    6561  5764801 16777216]\n"
          ],
          "name": "stdout"
        }
      ]
    },
    {
      "cell_type": "markdown",
      "metadata": {
        "id": "ZtXCPWh_DnkG"
      },
      "source": [
        "# Visualizing the Vectors"
      ]
    },
    {
      "cell_type": "code",
      "metadata": {
        "colab": {
          "base_uri": "https://localhost:8080/",
          "height": 281
        },
        "id": "c0cysZDaDqO2",
        "outputId": "df4694e9-6496-4900-d477-a3a06c8de023"
      },
      "source": [
        "A = a5\r\n",
        "B = s4\r\n",
        "C = m5\r\n",
        "D = d3\r\n",
        "E = sq2\r\n",
        "F = sr1\r\n",
        "\r\n",
        "mplib.scatter(A[0],A[1], label='A', c='black')\r\n",
        "mplib.scatter(B[0],B[1], label='B', c='blue')\r\n",
        "mplib.scatter(C[0],C[1], label='C', c='yellow')\r\n",
        "mplib.scatter(D[0],D[1], label='D', c='red')\r\n",
        "mplib.scatter(D[0],D[1], label='E', c='green')\r\n",
        "mplib.scatter(D[0],D[1], label='F', c='orange')\r\n",
        "\r\n",
        "mplib.title(\"Visualizing the Vectors\")\r\n",
        "mplib.xlim(-100, 100)\r\n",
        "mplib.ylim(-100, 100)\r\n",
        "mplib.axhline(y=0, color='black')\r\n",
        "mplib.axvline(x=0, color='black')\r\n",
        "mplib.grid()\r\n",
        "mplib.legend()\r\n",
        "mplib.show()"
      ],
      "execution_count": null,
      "outputs": [
        {
          "output_type": "display_data",
          "data": {
            "image/png": "[encoded data removed]",
            "text/plain": [
              "<Figure size 432x288 with 1 Axes>"
            ]
          },
          "metadata": {
            "tags": [],
            "needs_background": "light"
          }
        }
      ]
    },
    {
      "cell_type": "markdown",
      "metadata": {
        "id": "ilQ0bL44niFq"
      },
      "source": [
        "# Discussion of the Operations and Visualization of Report"
      ]
    },
    {
      "cell_type": "code",
      "metadata": {
        "colab": {
          "base_uri": "https://localhost:8080/"
        },
        "id": "2PASHpqppdBb",
        "outputId": "25eecc20-17fb-41f3-a203-0993485ef6bc"
      },
      "source": [
        "print(f\"The sum of the arrays is {a1}\")\r\n",
        "print(\"I used the numpy add function which is used when we want to compute the\") \r\n",
        "print(\"addition of two array. It add arguments element-wise. \")\r\n",
        "print(\"------------------------------------------------\")\r\n",
        "print(f\"The Diffrence of the arrays is {s3}\")\r\n",
        "print(\"numpy.subtract() function is used when we want to compute the difference\") \r\n",
        "print(\"of two array.It returns the difference of arr1 and arr2, element-wise.\")\r\n",
        "print(\"------------------------------------------------\")\r\n",
        "print(f\"Squaring the vectors result is {sq4}\")\r\n",
        "print(\"function returns a new array with the element value as the square of the\") \r\n",
        "print(\"source array elements. The source array remains unchanged\")\r\n",
        "print(\"------------------------------------------------\")\r\n",
        "print(f\"The Square root of a Vector is {sr1}\")\r\n",
        "print(\"The output of the function is simply an array of those calculated square\") \r\n",
        "print(\"roots, arranged in exactly the same shape as the input array.\")\r\n",
        "print(\"-----------------------------------------------\")\r\n",
        "print(f\"The Summation of the given vector is {sum1}\")\r\n",
        "print(\"This sum ups the elements of an array, takes the elements within an \")\r\n",
        "print(\"array, and adds them together\")"
      ],
      "execution_count": 12,
      "outputs": [
        {
          "output_type": "stream",
          "text": [
            "The sum of the arrays is [10 10 17]\n",
            "I used the numpy add function which is used when we want to compute the\n",
            "addition of two array. It add arguments element-wise. \n",
            "------------------------------------------------\n",
            "The Diffrence of the arrays is [ 2 -1 -7]\n",
            "numpy.subtract() function is used when we want to compute the difference\n",
            "of two array.It returns the difference of arr1 and arr2, element-wise.\n",
            "------------------------------------------------\n",
            "Squaring the vectors result is [       43046721  33232930569601 281474976710656]\n",
            "function returns a new array with the element value as the square of the\n",
            "source array elements. The source array remains unchanged\n",
            "------------------------------------------------\n",
            "The Square root of a Vector is [1.73205081 4.12310563 2.64575131]\n",
            "The output of the function is simply an array of those calculated square\n",
            "roots, arranged in exactly the same shape as the input array.\n",
            "-----------------------------------------------\n",
            "The Summation of the given vector is 30\n",
            "This sum ups the elements of an array, takes the elements within an \n",
            "array, and adds them together\n"
          ],
          "name": "stdout"
        }
      ]
    },
    {
      "cell_type": "markdown",
      "metadata": {
        "id": "JPdryiuvnZ5B"
      },
      "source": [
        "Author and Credits to: Nicanor Jimenez For helping me in this Laboratory"
      ]
    }
  ]
}